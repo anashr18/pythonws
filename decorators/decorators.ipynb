{
 "cells": [
  {
   "cell_type": "code",
   "execution_count": 3,
   "metadata": {},
   "outputs": [
    {
     "name": "stdout",
     "output_type": "stream",
     "text": [
      "<class '__main__.Foo'>\n",
      "3\n",
      "0\n",
      "0\n"
     ]
    }
   ],
   "source": [
    "# descriptors5.py\n",
    "class OneDigitNumericValue():\n",
    "    def __set_name__(self, owner, name):\n",
    "        print(owner)\n",
    "        self.name = name\n",
    "\n",
    "    def __get__(self, obj, type=None) -> object:\n",
    "        return obj.__dict__.get(self.name) or 0\n",
    "\n",
    "    def __set__(self, obj, value) -> None:\n",
    "        obj.__dict__[self.name] = value\n",
    "\n",
    "class Foo():\n",
    "    number = OneDigitNumericValue()\n",
    "\n",
    "my_foo_object = Foo()\n",
    "my_second_foo_object = Foo()\n",
    "\n",
    "my_foo_object.number = 3\n",
    "print(my_foo_object.number)\n",
    "print(my_second_foo_object.number)\n",
    "\n",
    "my_third_foo_object = Foo()\n",
    "print(my_third_foo_object.number)"
   ]
  },
  {
   "cell_type": "code",
   "execution_count": 252,
   "metadata": {},
   "outputs": [],
   "source": [
    "from typing import List\n",
    "from icecream import ic\n",
    "from pydantic import BaseModel"
   ]
  },
  {
   "cell_type": "code",
   "execution_count": 253,
   "metadata": {},
   "outputs": [
    {
     "data": {
      "text/plain": [
       "12.0"
      ]
     },
     "execution_count": 253,
     "metadata": {},
     "output_type": "execute_result"
    }
   ],
   "source": [
    "class Numbers(BaseModel):\n",
    "    numbers:List[int]\n",
    "    # here the type annotaton is List[int] and later the base models Number got created\n",
    "def calculate_average(data: List[int]):\n",
    "    data = Numbers(numbers=data)\n",
    "    return  sum(data.numbers)/len(data.numbers) if len(data.numbers)>0 else 'The list has length zero'\n",
    "numbers=[1,8,39,9,3]\n",
    "calculate_average(numbers)\n"
   ]
  },
  {
   "cell_type": "code",
   "execution_count": 254,
   "metadata": {},
   "outputs": [],
   "source": [
    "# here the type annotation is base Models Numbers\n",
    "def calculate_average1(data: Numbers):\n",
    "    # data = Numbers(numbers=data)\n",
    "    return  sum(data.numbers)/len(data.numbers) if len(data.numbers)>0 else 'The list has length zero'\n"
   ]
  },
  {
   "cell_type": "code",
   "execution_count": 255,
   "metadata": {},
   "outputs": [
    {
     "data": {
      "text/plain": [
       "12.0"
      ]
     },
     "execution_count": 255,
     "metadata": {},
     "output_type": "execute_result"
    }
   ],
   "source": [
    "# numbers='hello'\n",
    "data=[1,8,39,9,3]\n",
    "# numbers=[]\n",
    "# this line creates the base model\n",
    "data = Numbers(numbers=data)\n",
    "calculate_average1(data)\n",
    "\n"
   ]
  },
  {
   "cell_type": "code",
   "execution_count": 256,
   "metadata": {},
   "outputs": [],
   "source": [
    "class Numbers(BaseModel):\n",
    "    numbers:List[int]\n",
    "def cal_avg(data:Numbers):\n",
    "    numbers = data.numbers\n",
    "    return f'Count: {len(numbers)}, Average:{sum(numbers)/len(numbers)}' if len(numbers)>0 else None"
   ]
  },
  {
   "cell_type": "code",
   "execution_count": 257,
   "metadata": {},
   "outputs": [
    {
     "name": "stderr",
     "output_type": "stream",
     "text": [
      "ic| cal_avg(data): 'Count: 7, Average:6.714285714285714'\n"
     ]
    }
   ],
   "source": [
    "data = [2,7, 8,9, 7,8,6]\n",
    "try:\n",
    "    data = Numbers(numbers=data)\n",
    "    ic(cal_avg(data))\n",
    "except Exception as e:\n",
    "    ic(e)"
   ]
  },
  {
   "cell_type": "code",
   "execution_count": 258,
   "metadata": {},
   "outputs": [],
   "source": [
    "class Int(BaseModel):\n",
    "    number:float\n",
    "def cal_avg(*data:Int, round_to=3):\n",
    "    # numbers = data.numbers\n",
    "    # return f'Count: {len(data.number)}, Average:{round(sum(data.number)/len(data.number), round_to)}' if len(data.number)>0 else None\n",
    "    total = sum(n.number for n in data)\n",
    "    count = len(data)\n",
    "    return f'Count: {count}, Average:{round(total/count, round_to)}' if count>0 else None"
   ]
  },
  {
   "cell_type": "code",
   "execution_count": 259,
   "metadata": {},
   "outputs": [
    {
     "name": "stderr",
     "output_type": "stream",
     "text": [
      "ic| cal_avg(*data): 'Count: 5, Average:22.565'\n"
     ]
    }
   ],
   "source": [
    "data = [2.7, 89.1234, 7,8,6]\n",
    "try:\n",
    "    data = [Int(number=elem) for elem in data]\n",
    "    # ic(cal_avg(1,3,4,5))\n",
    "    ic(cal_avg(*data))\n",
    "except Exception as e:\n",
    "    ic(e)\n"
   ]
  },
  {
   "cell_type": "markdown",
   "metadata": {},
   "source": [
    "#HOF"
   ]
  },
  {
   "cell_type": "code",
   "execution_count": 260,
   "metadata": {},
   "outputs": [],
   "source": [
    "def loud(func):\n",
    "    def wrapper():\n",
    "        ic('inside wrapper')\n",
    "        return func().upper() +'!!!!!'\n",
    "    return wrapper"
   ]
  },
  {
   "cell_type": "code",
   "execution_count": 261,
   "metadata": {},
   "outputs": [],
   "source": [
    "def greet():\n",
    "    return 'Helloooooooosssss m here'"
   ]
  },
  {
   "cell_type": "code",
   "execution_count": 262,
   "metadata": {},
   "outputs": [
    {
     "name": "stderr",
     "output_type": "stream",
     "text": [
      "ic| 'inside wrapper'\n"
     ]
    },
    {
     "data": {
      "text/plain": [
       "'HELLOOOOOOOOSSSSS M HERE!!!!!'"
      ]
     },
     "execution_count": 262,
     "metadata": {},
     "output_type": "execute_result"
    }
   ],
   "source": [
    "loud(greet)()"
   ]
  },
  {
   "cell_type": "code",
   "execution_count": 263,
   "metadata": {},
   "outputs": [
    {
     "name": "stderr",
     "output_type": "stream",
     "text": [
      "ic| 'inside wrapper'\n"
     ]
    },
    {
     "data": {
      "text/plain": [
       "'HELLOOOOOOOOSSSSS M HERE!!!!!'"
      ]
     },
     "execution_count": 263,
     "metadata": {},
     "output_type": "execute_result"
    }
   ],
   "source": [
    "greet = loud(greet)\n",
    "greet()"
   ]
  },
  {
   "cell_type": "code",
   "execution_count": 264,
   "metadata": {},
   "outputs": [],
   "source": [
    "@loud\n",
    "def greet2():\n",
    "    return 'ggreeettt2222222'"
   ]
  },
  {
   "cell_type": "code",
   "execution_count": 265,
   "metadata": {},
   "outputs": [
    {
     "name": "stderr",
     "output_type": "stream",
     "text": [
      "ic| 'inside wrapper'\n"
     ]
    },
    {
     "data": {
      "text/plain": [
       "'GGREEETTT2222222!!!!!'"
      ]
     },
     "execution_count": 265,
     "metadata": {},
     "output_type": "execute_result"
    }
   ],
   "source": [
    "greet2()"
   ]
  },
  {
   "cell_type": "code",
   "execution_count": 266,
   "metadata": {},
   "outputs": [],
   "source": [
    "def double(func):\n",
    "    def wrapper(*args):\n",
    "        return func(*args)*2\n",
    "    return wrapper\n"
   ]
  },
  {
   "cell_type": "code",
   "execution_count": 267,
   "metadata": {},
   "outputs": [],
   "source": [
    "def add(a,b):\n",
    "    return a+b"
   ]
  },
  {
   "cell_type": "code",
   "execution_count": 268,
   "metadata": {},
   "outputs": [],
   "source": [
    "double_add = double(add)"
   ]
  },
  {
   "cell_type": "code",
   "execution_count": 269,
   "metadata": {},
   "outputs": [
    {
     "data": {
      "text/plain": [
       "10"
      ]
     },
     "execution_count": 269,
     "metadata": {},
     "output_type": "execute_result"
    }
   ],
   "source": [
    "double_add(2,3)"
   ]
  },
  {
   "cell_type": "code",
   "execution_count": 270,
   "metadata": {},
   "outputs": [],
   "source": [
    "add = double(add)"
   ]
  },
  {
   "cell_type": "code",
   "execution_count": 271,
   "metadata": {},
   "outputs": [
    {
     "data": {
      "text/plain": [
       "10"
      ]
     },
     "execution_count": 271,
     "metadata": {},
     "output_type": "execute_result"
    }
   ],
   "source": [
    "add(2,3)"
   ]
  },
  {
   "cell_type": "code",
   "execution_count": 272,
   "metadata": {},
   "outputs": [],
   "source": [
    "@double\n",
    "def add(a,b):\n",
    "    return a+b"
   ]
  },
  {
   "cell_type": "code",
   "execution_count": 183,
   "metadata": {},
   "outputs": [
    {
     "data": {
      "text/plain": [
       "10"
      ]
     },
     "execution_count": 183,
     "metadata": {},
     "output_type": "execute_result"
    }
   ],
   "source": [
    "add(2,3)"
   ]
  },
  {
   "cell_type": "code",
   "execution_count": 278,
   "metadata": {},
   "outputs": [],
   "source": [
    "def create_counter(start=0):\n",
    "    # count = start\n",
    "    count=[start]\n",
    "    def counter():\n",
    "        count[0] +=1\n",
    "        # nonlocal count\n",
    "        # count +=1    \n",
    "        return count[0]\n",
    "        # return count\n",
    "    return counter"
   ]
  },
  {
   "cell_type": "code",
   "execution_count": 286,
   "metadata": {},
   "outputs": [
    {
     "data": {
      "text/plain": [
       "13"
      ]
     },
     "execution_count": 286,
     "metadata": {},
     "output_type": "execute_result"
    }
   ],
   "source": [
    "counterA = create_counter(12)\n",
    "counterA()\n"
   ]
  },
  {
   "cell_type": "code",
   "execution_count": 289,
   "metadata": {},
   "outputs": [
    {
     "data": {
      "text/plain": [
       "16"
      ]
     },
     "execution_count": 289,
     "metadata": {},
     "output_type": "execute_result"
    }
   ],
   "source": [
    "counterA()"
   ]
  },
  {
   "cell_type": "code",
   "execution_count": 305,
   "metadata": {},
   "outputs": [],
   "source": [
    "def logger(func):\n",
    "    def inner(*args, **kwargs):\n",
    "        print(f\"Calling function: '{func.__name__}' with arguments:{args} and {kwargs}\")\n",
    "        return func(*args)\n",
    "    return inner"
   ]
  },
  {
   "cell_type": "code",
   "execution_count": 300,
   "metadata": {},
   "outputs": [],
   "source": [
    "@logger\n",
    "def calculate_sum(a, b):\n",
    "    return a + b"
   ]
  },
  {
   "cell_type": "code",
   "execution_count": 301,
   "metadata": {},
   "outputs": [
    {
     "name": "stdout",
     "output_type": "stream",
     "text": [
      "Calling function: 'calculate_sum' with arguments:(3, 6)\n"
     ]
    },
    {
     "data": {
      "text/plain": [
       "9"
      ]
     },
     "execution_count": 301,
     "metadata": {},
     "output_type": "execute_result"
    }
   ],
   "source": [
    "calculate_sum(3, 6)\n",
    "\n",
    "\n",
    "# Calling function: 'calculate_sum' with arguments: (3, 6) {}\n",
    "# Function 'calculate_sum' returned: 9\n",
    "# 9"
   ]
  },
  {
   "cell_type": "code",
   "execution_count": 306,
   "metadata": {},
   "outputs": [
    {
     "name": "stdout",
     "output_type": "stream",
     "text": [
      "Calling function: 'calculate_sum' with arguments:(3, 6) and {'random_kw': 'helo there'}\n"
     ]
    },
    {
     "data": {
      "text/plain": [
       "9"
      ]
     },
     "execution_count": 306,
     "metadata": {},
     "output_type": "execute_result"
    }
   ],
   "source": [
    "@logger\n",
    "def calculate_sum(a, b, **kwargs):\n",
    "    return a + b\n",
    "\n",
    "calculate_sum(3, 6, random_kw=\"helo there\")"
   ]
  },
  {
   "cell_type": "code",
   "execution_count": 308,
   "metadata": {},
   "outputs": [],
   "source": [
    "import random"
   ]
  },
  {
   "cell_type": "code",
   "execution_count": 352,
   "metadata": {},
   "outputs": [],
   "source": [
    "def repeat(func):\n",
    "    def inner(*args, k=2):\n",
    "        #  res =  [str (func(*args)) for _ in range(k)]\n",
    "         return (' ').join([f'Randomly drawn number:{str(func(*args))}' for _ in range(k)])\n",
    "        #  return res\n",
    "        #  return ('Randomly drawn number:').join(res)\n",
    "        #  return (' ').join([f'Randomly drawn number:{num}' for num in res])\n",
    "    return inner"
   ]
  },
  {
   "cell_type": "code",
   "execution_count": 353,
   "metadata": {},
   "outputs": [],
   "source": [
    "@repeat\n",
    "def lotto_draw(start, end):\n",
    "    return random.randint(start, end)"
   ]
  },
  {
   "cell_type": "code",
   "execution_count": 355,
   "metadata": {},
   "outputs": [
    {
     "data": {
      "text/plain": [
       "'Randomly drawn number:46 Randomly drawn number:31 Randomly drawn number:30 Randomly drawn number:27 Randomly drawn number:41'"
      ]
     },
     "execution_count": 355,
     "metadata": {},
     "output_type": "execute_result"
    }
   ],
   "source": [
    "lotto_draw(1,49, k=5)"
   ]
  },
  {
   "cell_type": "markdown",
   "metadata": {},
   "source": [
    "# Decorators with args"
   ]
  },
  {
   "cell_type": "code",
   "execution_count": 370,
   "metadata": {},
   "outputs": [],
   "source": [
    "def target_calorie(calorie=500):\n",
    "    def ensure_healthy_workout(func):\n",
    "        def inner(*args):\n",
    "            calories_burned = func(*args)\n",
    "            if calories_burned < calorie:\n",
    "                print('not an intense workout')\n",
    "            else:\n",
    "                print('congartulations')\n",
    "        return inner\n",
    "    return ensure_healthy_workout"
   ]
  },
  {
   "cell_type": "code",
   "execution_count": 373,
   "metadata": {},
   "outputs": [],
   "source": [
    "@target_calorie(51)\n",
    "def calories_burned(duration_in_minutes, calories_burned_per_minute):\n",
    "    return duration_in_minutes * calories_burned_per_minute"
   ]
  },
  {
   "cell_type": "code",
   "execution_count": 374,
   "metadata": {},
   "outputs": [
    {
     "name": "stdout",
     "output_type": "stream",
     "text": [
      "not an intense workout\n"
     ]
    }
   ],
   "source": [
    "calories_burned(5, 10)"
   ]
  },
  {
   "cell_type": "code",
   "execution_count": 1,
   "metadata": {},
   "outputs": [],
   "source": [
    "import random\n"
   ]
  },
  {
   "cell_type": "code",
   "execution_count": 46,
   "metadata": {},
   "outputs": [],
   "source": [
    "def repeat_times(k=5):\n",
    "    def repeat(func):\n",
    "        def inner(*args):\n",
    "            return [func(*args) for _ in range(k)]\n",
    "        return inner\n",
    "    return repeat"
   ]
  },
  {
   "cell_type": "code",
   "execution_count": 53,
   "metadata": {},
   "outputs": [],
   "source": [
    "@repeat_times(10)\n",
    "def lotto_draw():\n",
    "    return random.randint(1, 100)\n"
   ]
  },
  {
   "cell_type": "code",
   "execution_count": 54,
   "metadata": {},
   "outputs": [
    {
     "data": {
      "text/plain": [
       "[64, 64, 5, 50, 72, 62, 47, 59, 9, 59]"
      ]
     },
     "execution_count": 54,
     "metadata": {},
     "output_type": "execute_result"
    }
   ],
   "source": [
    "lotto_draw()"
   ]
  },
  {
   "cell_type": "code",
   "execution_count": 65,
   "metadata": {},
   "outputs": [],
   "source": [
    "def split(func):\n",
    "    def inner(*args):\n",
    "        \"\"\"Split Inner function doc string\"\"\"\n",
    "        return func(*args).split(' ')\n",
    "    return inner\n",
    "def uppercase(func):\n",
    "    def inner(*args):\n",
    "        \"\"\"Uppercase Inner function doc string\"\"\"\n",
    "        return func(*args).upper()\n",
    "    return inner\n"
   ]
  },
  {
   "cell_type": "code",
   "execution_count": 66,
   "metadata": {},
   "outputs": [],
   "source": [
    "@split\n",
    "@uppercase\n",
    "def passphrase(text):\n",
    "    \"\"\"Passphrase Inner function doc string\"\"\"\n",
    "    return text"
   ]
  },
  {
   "cell_type": "code",
   "execution_count": 67,
   "metadata": {},
   "outputs": [
    {
     "data": {
      "text/plain": [
       "['HELLO', 'KA', 'HOAT', 'LAAG', 'HAI', 'SUAR', 'NAHI', 'TO']"
      ]
     },
     "execution_count": 67,
     "metadata": {},
     "output_type": "execute_result"
    }
   ],
   "source": [
    "passphrase('Hello ka hoat laag hai suar nahi to')"
   ]
  },
  {
   "cell_type": "code",
   "execution_count": 68,
   "metadata": {},
   "outputs": [
    {
     "data": {
      "text/plain": [
       "'inner'"
      ]
     },
     "execution_count": 68,
     "metadata": {},
     "output_type": "execute_result"
    }
   ],
   "source": [
    "passphrase.__name__"
   ]
  },
  {
   "cell_type": "code",
   "execution_count": 69,
   "metadata": {},
   "outputs": [
    {
     "data": {
      "text/plain": [
       "'Split Inner function doc string'"
      ]
     },
     "execution_count": 69,
     "metadata": {},
     "output_type": "execute_result"
    }
   ],
   "source": [
    "passphrase.__doc__"
   ]
  },
  {
   "cell_type": "code",
   "execution_count": 70,
   "metadata": {},
   "outputs": [],
   "source": [
    "from functools import wraps"
   ]
  },
  {
   "cell_type": "code",
   "execution_count": 76,
   "metadata": {},
   "outputs": [],
   "source": [
    "def split(func):\n",
    "    @wraps(func)\n",
    "    def inner(*args):\n",
    "        \"\"\"Split Inner function doc string\"\"\"\n",
    "        return func(*args).split(' ')\n",
    "    return inner\n",
    "def uppercase(func):\n",
    "    @wraps(func)\n",
    "    def inner(*args):\n",
    "        \"\"\"Uppercase Inner function doc string\"\"\"\n",
    "        return func(*args).upper()\n",
    "    return inner\n"
   ]
  },
  {
   "cell_type": "code",
   "execution_count": 77,
   "metadata": {},
   "outputs": [],
   "source": [
    "@split\n",
    "@uppercase\n",
    "def passphrase(text):\n",
    "    \"\"\"Passphrase Inner function doc string\"\"\"\n",
    "    return text"
   ]
  },
  {
   "cell_type": "code",
   "execution_count": 78,
   "metadata": {},
   "outputs": [
    {
     "data": {
      "text/plain": [
       "['BAHUT', 'THAND', 'PADAT', 'LAAG', 'HAI', 'AAJKAL']"
      ]
     },
     "execution_count": 78,
     "metadata": {},
     "output_type": "execute_result"
    }
   ],
   "source": [
    "passphrase('bahut thand padat laag hai aajkal')\n"
   ]
  },
  {
   "cell_type": "code",
   "execution_count": 79,
   "metadata": {},
   "outputs": [
    {
     "data": {
      "text/plain": [
       "('passphrase', 'Passphrase Inner function doc string')"
      ]
     },
     "execution_count": 79,
     "metadata": {},
     "output_type": "execute_result"
    }
   ],
   "source": [
    "passphrase.__name__, passphrase.__doc__"
   ]
  },
  {
   "cell_type": "code",
   "execution_count": 169,
   "metadata": {},
   "outputs": [],
   "source": [
    "import time\n",
    "def download_counter(func):\n",
    "    # counter=0\n",
    "    counter_dict = {}\n",
    "    @wraps(func)\n",
    "    def inner(*args):\n",
    "        # nonlocal counter\n",
    "        # counter+=1\n",
    "        counter_dict[args[0]] = counter_dict.get(args[0], 0) +1\n",
    "        download_seconds = counter_dict[args[0]]\n",
    "        delayed_text = f'Your download will start in {download_seconds-1} second/s. ' if download_seconds-1!=0 else ''\n",
    "        print(delayed_text)\n",
    "        time.sleep(download_seconds-1)\n",
    "        return f'{func(*args)}'\n",
    "    return inner"
   ]
  },
  {
   "cell_type": "code",
   "execution_count": 176,
   "metadata": {},
   "outputs": [],
   "source": [
    "from uuid import uuid4\n",
    "@download_counter\n",
    "def download(user_id, resource):\n",
    "    return f'Resource is ready at: fantastic_resources.com/{uuid4()}'"
   ]
  },
  {
   "cell_type": "code",
   "execution_count": 184,
   "metadata": {},
   "outputs": [
    {
     "name": "stdout",
     "output_type": "stream",
     "text": [
      "Your download will start in 4 second/s. \n"
     ]
    },
    {
     "data": {
      "text/plain": [
       "'Resource is ready at: fantastic_resources.com/e0135e88-4bf2-417f-bb25-189714551c9f'"
      ]
     },
     "execution_count": 184,
     "metadata": {},
     "output_type": "execute_result"
    }
   ],
   "source": [
    "download(3, 'Avengers')"
   ]
  },
  {
   "cell_type": "code",
   "execution_count": 183,
   "metadata": {},
   "outputs": [
    {
     "name": "stdout",
     "output_type": "stream",
     "text": [
      "Your download will start in 2 second/s. \n"
     ]
    },
    {
     "data": {
      "text/plain": [
       "'Resource is ready at: fantastic_resources.com/ada539ef-31a6-4c46-87b8-63acd4a5ba57'"
      ]
     },
     "execution_count": 183,
     "metadata": {},
     "output_type": "execute_result"
    }
   ],
   "source": [
    "download(5, 'Matrix')"
   ]
  },
  {
   "cell_type": "markdown",
   "metadata": {},
   "source": [
    "# Roster interface"
   ]
  },
  {
   "cell_type": "code",
   "execution_count": 196,
   "metadata": {},
   "outputs": [],
   "source": [
    "def view_roster():\n",
    "    print('in view')\n",
    "    pass\n",
    "def add_roster():\n",
    "    print('in add')\n",
    "    pass\n",
    "def upvote():\n",
    "    print('in upvote')\n",
    "    pass\n",
    "def quit():\n",
    "    print('in quit')\n",
    "    pass\n"
   ]
  },
  {
   "cell_type": "code",
   "execution_count": 258,
   "metadata": {},
   "outputs": [],
   "source": [
    "from enum import Enum\n",
    "class OPTIONS(Enum):\n",
    "    a=view_roster\n",
    "    b=upvote\n",
    "    c=add_roster\n",
    "    d=quit\n",
    "\n",
    "    def __call__(self):\n",
    "        return self.value()"
   ]
  },
  {
   "cell_type": "code",
   "execution_count": 240,
   "metadata": {},
   "outputs": [
    {
     "name": "stdout",
     "output_type": "stream",
     "text": [
      "Select an option from below options::\n",
      "- a. View Roster\n",
      "- b. Upvote\n",
      "- c. Add to Roster\n",
      "- d. Quit\n",
      "a\n"
     ]
    },
    {
     "ename": "KeyError",
     "evalue": "'a'",
     "output_type": "error",
     "traceback": [
      "\u001b[0;31m---------------------------------------------------------------------------\u001b[0m",
      "\u001b[0;31mKeyError\u001b[0m                                  Traceback (most recent call last)",
      "Cell \u001b[0;32mIn[240], line 9\u001b[0m\n\u001b[1;32m      6\u001b[0m option_selected \u001b[38;5;241m=\u001b[39m \u001b[38;5;28minput\u001b[39m()\u001b[38;5;241m.\u001b[39mstrip()\u001b[38;5;241m.\u001b[39mlower()\n\u001b[1;32m      7\u001b[0m \u001b[38;5;28mprint\u001b[39m(option_selected)\n\u001b[0;32m----> 9\u001b[0m \u001b[43mOPTIONS\u001b[49m\u001b[43m[\u001b[49m\u001b[43moption_selected\u001b[49m\u001b[43m]\u001b[49m\u001b[38;5;241m.\u001b[39mvalue\n",
      "File \u001b[0;32m~/miniconda3/envs/dsenv/lib/python3.12/enum.py:814\u001b[0m, in \u001b[0;36mEnumType.__getitem__\u001b[0;34m(cls, name)\u001b[0m\n\u001b[1;32m    810\u001b[0m \u001b[38;5;28;01mdef\u001b[39;00m \u001b[38;5;21m__getitem__\u001b[39m(\u001b[38;5;28mcls\u001b[39m, name):\n\u001b[1;32m    811\u001b[0m \u001b[38;5;250m    \u001b[39m\u001b[38;5;124;03m\"\"\"\u001b[39;00m\n\u001b[1;32m    812\u001b[0m \u001b[38;5;124;03m    Return the member matching `name`.\u001b[39;00m\n\u001b[1;32m    813\u001b[0m \u001b[38;5;124;03m    \"\"\"\u001b[39;00m\n\u001b[0;32m--> 814\u001b[0m     \u001b[38;5;28;01mreturn\u001b[39;00m \u001b[38;5;28;43mcls\u001b[39;49m\u001b[38;5;241;43m.\u001b[39;49m\u001b[43m_member_map_\u001b[49m\u001b[43m[\u001b[49m\u001b[43mname\u001b[49m\u001b[43m]\u001b[49m\n",
      "\u001b[0;31mKeyError\u001b[0m: 'a'"
     ]
    }
   ],
   "source": [
    "print('''Select an option from below options::\n",
    "- a. View Roster\n",
    "- b. Upvote\n",
    "- c. Add to Roster\n",
    "- d. Quit''')\n",
    "option_selected = input().strip().lower()\n",
    "print(option_selected)\n",
    "\n",
    "OPTIONS[option_selected].value\n",
    "\n"
   ]
  },
  {
   "cell_type": "code",
   "execution_count": 257,
   "metadata": {},
   "outputs": [
    {
     "name": "stdout",
     "output_type": "stream",
     "text": [
      "0\n",
      "1\n",
      "2\n",
      "3\n",
      "4\n"
     ]
    }
   ],
   "source": [
    "for x in OPTIONS:\n",
    "    print(x.name)\n",
    "for y in range(5):\n",
    "    print(y)"
   ]
  }
 ],
 "metadata": {
  "kernelspec": {
   "display_name": "dsenv",
   "language": "python",
   "name": "python3"
  },
  "language_info": {
   "codemirror_mode": {
    "name": "ipython",
    "version": 3
   },
   "file_extension": ".py",
   "mimetype": "text/x-python",
   "name": "python",
   "nbconvert_exporter": "python",
   "pygments_lexer": "ipython3",
   "version": "3.12.3"
  }
 },
 "nbformat": 4,
 "nbformat_minor": 2
}
