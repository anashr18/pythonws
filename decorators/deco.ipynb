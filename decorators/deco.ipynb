{
 "cells": [
  {
   "cell_type": "code",
   "execution_count": 71,
   "metadata": {},
   "outputs": [],
   "source": [
    "ADMIN='admin'\n",
    "PASSWORD='pwd'"
   ]
  },
  {
   "cell_type": "code",
   "execution_count": 73,
   "metadata": {},
   "outputs": [],
   "source": [
    "from functools import wraps\n",
    "def authd(func):\n",
    "    @wraps(func)\n",
    "    def inner(*args):\n",
    "        user_id = input('Enter user_id')\n",
    "        pwd = input('Enter password')\n",
    "        if user_id.lower()==ADMIN and pwd.lower()==PASSWORD:\n",
    "            print('Authentication successful')\n",
    "            return func(*args)\n",
    "        print('Unsuccessful Authentication') \n",
    "    return inner"
   ]
  },
  {
   "cell_type": "code",
   "execution_count": 74,
   "metadata": {},
   "outputs": [],
   "source": [
    "# application state ###\n",
    "ROSTER = [\n",
    "    { \"name\": \"Alice\", \"votes\": 12},\n",
    "    { \"name\": \"Tyler\", \"votes\": 9},\n",
    "    { \"name\": \"Andrew\", \"votes\": 10},\n",
    "    { \"name\": \"Yug\", \"votes\": 10}\n",
    "]"
   ]
  },
  {
   "cell_type": "code",
   "execution_count": 77,
   "metadata": {},
   "outputs": [],
   "source": [
    "def view_roster():\n",
    "    print('in view')\n",
    "    sorted_roster = sorted(ROSTER, key=lambda x: int(x['votes']), reverse=True)\n",
    "    return ('\\n').join([f'{item['name']}: {item['votes']} votes' for item in sorted_roster])\n",
    "    pass\n",
    "@authd\n",
    "def add_to_roster():\n",
    "    print('in add')\n",
    "    user = input('enter the user name to add in roster: ')\n",
    "    # item = {}\n",
    "    # item['name'] = user\n",
    "    # item['votes'] = 1\n",
    "    ROSTER.append({'name':user, 'votes':1})\n",
    "    pass\n",
    "@authd\n",
    "def upvote():\n",
    "    print('in upvote')\n",
    "    user = input('enter the user name from the roster to upvote: ')\n",
    "    for item in ROSTER:\n",
    "        if item['name'].lower() == user.lower():\n",
    "            item['votes'] = item['votes'] +1 \n",
    "            print('Upvoted')\n",
    "            return\n",
    "def quit():\n",
    "    print('in quit')\n",
    "    pass"
   ]
  },
  {
   "cell_type": "code",
   "execution_count": 78,
   "metadata": {},
   "outputs": [],
   "source": [
    "\n",
    "#######################\n",
    "\n",
    "def menu():\n",
    "  while True:\n",
    "    print(\"\"\"\n",
    "    a. View Roster\n",
    "    b. Upvote\n",
    "    c. Add to Roster\n",
    "    d. Quit\n",
    "    \"\"\")\n",
    "\n",
    "    option = input(\"Enter option: \").lower()\n",
    "    if option=='a':\n",
    "      print(view_roster())\n",
    "    elif option=='b':\n",
    "      upvote()\n",
    "    elif option=='c':\n",
    "      add_to_roster()\n",
    "    else:\n",
    "      break"
   ]
  },
  {
   "cell_type": "code",
   "execution_count": 80,
   "metadata": {},
   "outputs": [
    {
     "name": "stdout",
     "output_type": "stream",
     "text": [
      "\n",
      "    a. View Roster\n",
      "    b. Upvote\n",
      "    c. Add to Roster\n",
      "    d. Quit\n",
      "    \n",
      "Unsuccessful Authentication\n",
      "\n",
      "    a. View Roster\n",
      "    b. Upvote\n",
      "    c. Add to Roster\n",
      "    d. Quit\n",
      "    \n",
      "Unsuccessful Authentication\n",
      "\n",
      "    a. View Roster\n",
      "    b. Upvote\n",
      "    c. Add to Roster\n",
      "    d. Quit\n",
      "    \n",
      "Unsuccessful Authentication\n",
      "\n",
      "    a. View Roster\n",
      "    b. Upvote\n",
      "    c. Add to Roster\n",
      "    d. Quit\n",
      "    \n"
     ]
    }
   ],
   "source": [
    "menu()"
   ]
  },
  {
   "cell_type": "markdown",
   "metadata": {},
   "source": [
    "# weather api"
   ]
  },
  {
   "cell_type": "code",
   "execution_count": 152,
   "metadata": {},
   "outputs": [],
   "source": [
    "WEATHER_DATA = [\n",
    "    {'city':'Delhi', 'weather':{'temprature':45, 'humidity':30}},\n",
    "    {'city':'Chennai', 'weather':{'temprature':40, 'humidity':90}},\n",
    "    {'city':'Mumbai', 'weather':{'temprature':35, 'humidity':70}},\n",
    "    {'city':'Srinagar', 'weather':{'temprature':15, 'humidity':10}}\n",
    "]"
   ]
  },
  {
   "cell_type": "code",
   "execution_count": 153,
   "metadata": {},
   "outputs": [],
   "source": [
    "CACHE = []\n",
    "import time"
   ]
  },
  {
   "cell_type": "code",
   "execution_count": 154,
   "metadata": {},
   "outputs": [],
   "source": [
    "def cache(func):\n",
    "    @wraps(func)\n",
    "    def inner(city):\n",
    "        for item in CACHE:\n",
    "            if time.time()-item['last_fetched_at']<11:\n",
    "                if item['city'].lower()==city.lower():\n",
    "                    print('returning from cache')\n",
    "                    return item['weather'] \n",
    "        print('making api call.....')\n",
    "        weather = func(city)\n",
    "\n",
    "        CACHE.append({'city':city, 'last_fetched_at':time.time(), 'weather':{'temprature':weather['temprature'], 'humidity':weather['humidity']}})\n",
    "        return weather\n",
    "    return inner"
   ]
  },
  {
   "cell_type": "code",
   "execution_count": 155,
   "metadata": {},
   "outputs": [],
   "source": [
    "\n",
    "@cache\n",
    "def get_weather(city):\n",
    "    time.sleep(1)\n",
    "    for item in WEATHER_DATA:\n",
    "        if item['city'].lower()==city.lower():\n",
    "            # CACHE.append({'city':city, 'last_fetched_at':time.time(), 'weather':{'temprature':item['weather']['temprature'], 'humidity':item['weather']['humidity']}})\n",
    "            # item['last_fetched_at']=time.time()\n",
    "            return item['weather']\n",
    "    print('No weather info')\n",
    "    pass"
   ]
  },
  {
   "cell_type": "code",
   "execution_count": 172,
   "metadata": {},
   "outputs": [
    {
     "name": "stdout",
     "output_type": "stream",
     "text": [
      "making api call.....\n"
     ]
    },
    {
     "data": {
      "text/plain": [
       "{'temprature': 15, 'humidity': 10}"
      ]
     },
     "execution_count": 172,
     "metadata": {},
     "output_type": "execute_result"
    }
   ],
   "source": [
    "get_weather('srinagar')\n"
   ]
  },
  {
   "cell_type": "code",
   "execution_count": 173,
   "metadata": {},
   "outputs": [
    {
     "data": {
      "text/plain": [
       "[{'city': 'srinagar',\n",
       "  'last_fetched_at': 1718502484.9576662,\n",
       "  'weather': {'temprature': 15, 'humidity': 10}},\n",
       " {'city': 'srinagar',\n",
       "  'last_fetched_at': 1718502498.1686559,\n",
       "  'weather': {'temprature': 15, 'humidity': 10}},\n",
       " {'city': 'srinagar',\n",
       "  'last_fetched_at': 1718502510.706773,\n",
       "  'weather': {'temprature': 15, 'humidity': 10}}]"
      ]
     },
     "execution_count": 173,
     "metadata": {},
     "output_type": "execute_result"
    }
   ],
   "source": [
    "CACHE"
   ]
  },
  {
   "cell_type": "code",
   "execution_count": null,
   "metadata": {},
   "outputs": [],
   "source": []
  },
  {
   "cell_type": "code",
   "execution_count": 129,
   "metadata": {},
   "outputs": [
    {
     "data": {
      "text/plain": [
       "{'temprature': 45, 'humidity': 30}"
      ]
     },
     "execution_count": 129,
     "metadata": {},
     "output_type": "execute_result"
    }
   ],
   "source": [
    "get_weather('delhi')"
   ]
  }
 ],
 "metadata": {
  "kernelspec": {
   "display_name": "dsenv",
   "language": "python",
   "name": "python3"
  },
  "language_info": {
   "codemirror_mode": {
    "name": "ipython",
    "version": 3
   },
   "file_extension": ".py",
   "mimetype": "text/x-python",
   "name": "python",
   "nbconvert_exporter": "python",
   "pygments_lexer": "ipython3",
   "version": "3.12.3"
  }
 },
 "nbformat": 4,
 "nbformat_minor": 2
}
